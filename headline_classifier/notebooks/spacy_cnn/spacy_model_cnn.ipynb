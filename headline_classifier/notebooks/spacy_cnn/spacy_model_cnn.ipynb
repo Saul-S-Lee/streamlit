{
 "cells": [
  {
   "cell_type": "markdown",
   "metadata": {},
   "source": [
    "### Headline Category Classifier Model Training\n",
    "\n",
    "This notebook performs the model training for a text classifier using Spacy"
   ]
  },
  {
   "cell_type": "markdown",
   "metadata": {},
   "source": [
    "__Model Type: Spacy TextCatCNN__\n",
    "\n",
    "This model was trained using a python v3.11.3 environment and requires:\n",
    "- spacy\n",
    "\n",
    "Please consult the requirements.txt for more info."
   ]
  },
  {
   "cell_type": "markdown",
   "metadata": {},
   "source": [
    "#### 0. Check GPU Status"
   ]
  },
  {
   "cell_type": "code",
   "execution_count": 3,
   "metadata": {},
   "outputs": [
    {
     "name": "stdout",
     "output_type": "stream",
     "text": [
      "nvcc: NVIDIA (R) Cuda compiler driver\n",
      "Copyright (c) 2005-2022 NVIDIA Corporation\n",
      "Built on Wed_Jun__8_16:49:14_PDT_2022\n",
      "Cuda compilation tools, release 11.7, V11.7.99\n",
      "Build cuda_11.7.r11.7/compiler.31442593_0\n"
     ]
    }
   ],
   "source": [
    "# check cuda version\n",
    "!nvcc --version"
   ]
  },
  {
   "cell_type": "code",
   "execution_count": 4,
   "metadata": {},
   "outputs": [
    {
     "name": "stdout",
     "output_type": "stream",
     "text": [
      "Tue Jul 11 22:21:45 2023       \n",
      "+-----------------------------------------------------------------------------+\n",
      "| NVIDIA-SMI 525.120      Driver Version: 529.01       CUDA Version: 12.0     |\n",
      "|-------------------------------+----------------------+----------------------+\n",
      "| GPU  Name        Persistence-M| Bus-Id        Disp.A | Volatile Uncorr. ECC |\n",
      "| Fan  Temp  Perf  Pwr:Usage/Cap|         Memory-Usage | GPU-Util  Compute M. |\n",
      "|                               |                      |               MIG M. |\n",
      "|===============================+======================+======================|\n",
      "|   0  NVIDIA GeForce ...  On   | 00000000:01:00.0 Off |                  N/A |\n",
      "| N/A   43C    P8     1W / 114W |      0MiB /  8188MiB |      0%      Default |\n",
      "|                               |                      |                  N/A |\n",
      "+-------------------------------+----------------------+----------------------+\n",
      "                                                                               \n",
      "+-----------------------------------------------------------------------------+\n",
      "| Processes:                                                                  |\n",
      "|  GPU   GI   CI        PID   Type   Process name                  GPU Memory |\n",
      "|        ID   ID                                                   Usage      |\n",
      "|=============================================================================|\n",
      "|    0   N/A  N/A        25      G   /Xwayland                       N/A      |\n",
      "+-----------------------------------------------------------------------------+\n"
     ]
    }
   ],
   "source": [
    "# check gpu status\n",
    "!nvidia-smi"
   ]
  },
  {
   "cell_type": "markdown",
   "metadata": {},
   "source": [
    "#### 1. Generate config file and modify as necessary to use the correct model"
   ]
  },
  {
   "cell_type": "code",
   "execution_count": 5,
   "metadata": {},
   "outputs": [
    {
     "name": "stdout",
     "output_type": "stream",
     "text": [
      "\u001b[38;5;3m⚠ To generate a more effective transformer-based config (GPU-only),\n",
      "install the spacy-transformers package and re-run this command. The config\n",
      "generated now does not use transformers.\u001b[0m\n",
      "\u001b[38;5;4mℹ Generated config template specific for your use case\u001b[0m\n",
      "- Language: en\n",
      "- Pipeline: textcat\n",
      "- Optimize for: efficiency\n",
      "- Hardware: GPU\n",
      "- Transformer: None\n",
      "\u001b[38;5;2m✔ Auto-filled config with all values\u001b[0m\n",
      "\u001b[38;5;2m✔ Saved config\u001b[0m\n",
      "config.cfg\n",
      "You can now add your data and train your pipeline:\n",
      "python -m spacy train config.cfg --paths.train ./train.spacy --paths.dev ./dev.spacy\n"
     ]
    }
   ],
   "source": [
    "# setup the config file\n",
    "!python -m spacy init config --pipeline textcat config.cfg --gpu"
   ]
  },
  {
   "attachments": {},
   "cell_type": "markdown",
   "metadata": {},
   "source": [
    "modify the [model] and [model.tok2vec]\n",
    "\n",
    "```\n",
    "[components.textcat.model]\n",
    "@architectures = \"spacy.TextCatCNN.v2\"\n",
    "exclusive_classes = false\n",
    "nO = null\n",
    "\n",
    "[components.textcat.model.tok2vec]\n",
    "@architectures = \"spacy.HashEmbedCNN.v2\"\n",
    "pretrained_vectors = null\n",
    "width = 96\n",
    "depth = 4\n",
    "embed_size = 2000\n",
    "window_size = 1\n",
    "maxout_pieces = 3\n",
    "subword_features = true\n",
    "```\n",
    "\n"
   ]
  },
  {
   "cell_type": "markdown",
   "metadata": {},
   "source": [
    "#### 2. Train the model and evaluate model performance"
   ]
  },
  {
   "cell_type": "code",
   "execution_count": 12,
   "metadata": {},
   "outputs": [
    {
     "name": "stdout",
     "output_type": "stream",
     "text": [
      "\u001b[38;5;2m✔ Created output directory: textcat_model\u001b[0m\n",
      "\u001b[38;5;4mℹ Saving to output directory: textcat_model\u001b[0m\n",
      "\u001b[38;5;4mℹ Using GPU: 0\u001b[0m\n",
      "\u001b[1m\n",
      "=========================== Initializing pipeline ===========================\u001b[0m\n",
      "[2023-07-11 23:39:17,741] [INFO] Set up nlp object from config\n",
      "[2023-07-11 23:39:17,748] [INFO] Pipeline: ['textcat']\n",
      "[2023-07-11 23:39:17,749] [INFO] Created vocabulary\n",
      "[2023-07-11 23:39:17,749] [INFO] Finished initializing nlp object\n",
      "[2023-07-11 23:39:34,042] [INFO] Initialized pipeline components: ['textcat']\n",
      "\u001b[38;5;2m✔ Initialized pipeline\u001b[0m\n",
      "\u001b[1m\n",
      "============================= Training pipeline =============================\u001b[0m\n",
      "\u001b[38;5;4mℹ Pipeline: ['textcat']\u001b[0m\n",
      "\u001b[38;5;4mℹ Initial learn rate: 0.001\u001b[0m\n",
      "E    #       LOSS TEXTCAT  CATS_SCORE  SCORE \n",
      "---  ------  ------------  ----------  ------\n",
      "  0       0          0.30        1.26    0.01\n",
      "  0     200          5.71        1.46    0.01\n",
      "  0     400          4.54        2.56    0.03\n",
      "  0     600          4.44        2.95    0.03\n",
      "  0     800          4.27        4.73    0.05\n",
      "  0    1000          4.15        8.05    0.08\n",
      "  0    1200          3.93        7.41    0.07\n",
      "  0    1400          3.86       11.02    0.11\n",
      "  0    1600          3.76       13.58    0.14\n",
      "  0    1800          3.64       14.95    0.15\n",
      "  0    2000          3.56       17.77    0.18\n",
      "  0    2200          3.50       19.30    0.19\n",
      "  0    2400          3.39       19.99    0.20\n",
      "  1    2600          3.27       21.35    0.21\n",
      "  1    2800          3.16       21.78    0.22\n",
      "  1    3000          3.16       22.46    0.22\n",
      "  1    3200          3.14       23.50    0.23\n",
      "  1    3400          3.12       24.44    0.24\n",
      "  1    3600          3.14       24.96    0.25\n",
      "  2    3800          2.93       25.79    0.26\n",
      "  2    4000          2.95       26.78    0.27\n",
      "  2    4200          2.96       26.69    0.27\n",
      "  2    4400          2.97       27.68    0.28\n",
      "  2    4600          2.96       27.79    0.28\n",
      "  3    4800          2.91       28.81    0.29\n",
      "  3    5000          2.77       28.24    0.28\n",
      "  3    5200          2.83       29.27    0.29\n",
      "  3    5400          2.82       29.83    0.30\n",
      "  3    5600          2.83       29.96    0.30\n",
      "  3    5800          2.84       30.28    0.30\n",
      "  4    6000          2.72       30.77    0.31\n",
      "  4    6200          2.68       30.56    0.31\n",
      "  4    6400          2.69       31.58    0.32\n",
      "  4    6600          2.74       32.04    0.32\n",
      "  4    6800          2.70       32.57    0.33\n",
      "  5    7000          2.72       32.25    0.32\n",
      "  5    7200          2.53       32.86    0.33\n",
      "  5    7400          2.56       32.79    0.33\n",
      "  5    7600          2.60       32.92    0.33\n",
      "  5    7800          2.63       33.07    0.33\n",
      "  5    8000          2.67       34.26    0.34\n",
      "  6    8200          2.56       34.50    0.35\n",
      "  6    8400          2.50       34.66    0.35\n",
      "  6    8600          2.51       34.49    0.34\n",
      "  6    8800          2.54       34.61    0.35\n",
      "  6    9000          2.53       34.52    0.35\n",
      "  6    9200          2.56       35.48    0.35\n",
      "  7    9400          2.41       36.22    0.36\n",
      "  7    9600          2.38       35.40    0.35\n",
      "  7    9800          2.44       35.83    0.36\n",
      "  7   10000          2.50       35.63    0.36\n",
      "  7   10200          2.48       35.63    0.36\n",
      "  8   10400          2.44       35.71    0.36\n",
      "  8   10600          2.34       35.93    0.36\n",
      "  8   10800          2.36       36.28    0.36\n",
      "  8   11000          2.40       36.42    0.36\n",
      "  8   11200          2.44       36.40    0.36\n",
      "  8   11400          2.42       36.58    0.37\n",
      "  9   11600          2.31       36.46    0.36\n",
      "  9   11800          2.28       37.64    0.38\n",
      "  9   12000          2.31       36.60    0.37\n",
      "  9   12200          2.36       37.10    0.37\n",
      "  9   12400          2.38       37.71    0.38\n",
      " 10   12600          2.35       36.96    0.37\n",
      " 10   12800          2.19       37.23    0.37\n",
      " 10   13000          2.26       37.48    0.37\n",
      " 10   13200          2.27       37.30    0.37\n",
      " 10   13400          2.34       37.98    0.38\n",
      " 10   13600          2.33       37.29    0.37\n",
      " 11   13800          2.23       38.55    0.39\n",
      " 11   14000          2.17       37.88    0.38\n",
      " 11   14200          2.22       37.99    0.38\n",
      " 11   14400          2.26       37.38    0.37\n",
      " 11   14600          2.29       38.90    0.39\n",
      " 11   14800          2.29       38.35    0.38\n",
      " 12   15000          2.11       38.46    0.38\n",
      " 12   15200          2.13       38.46    0.38\n",
      " 12   15400          2.20       37.93    0.38\n",
      " 12   15600          2.22       38.84    0.39\n",
      " 12   15800          2.24       38.12    0.38\n",
      " 13   16000          2.16       38.63    0.39\n",
      " 13   16200          2.08       38.11    0.38\n",
      "\u001b[38;5;2m✔ Saved pipeline to output directory\u001b[0m\n",
      "textcat_model/model-last\n"
     ]
    }
   ],
   "source": [
    "# train the model\n",
    "!python -m spacy train config.cfg --paths.train ../data/train.spacy  --paths.dev ../data/dev.spacy --output textcat_model --gpu-id 0"
   ]
  },
  {
   "cell_type": "code",
   "execution_count": 13,
   "metadata": {},
   "outputs": [
    {
     "name": "stdout",
     "output_type": "stream",
     "text": [
      "\u001b[38;5;4mℹ Using GPU: 0\u001b[0m\n",
      "\u001b[1m\n",
      "================================== Results ==================================\u001b[0m\n",
      "\n",
      "TOK                 100.00\n",
      "TEXTCAT (macro F)   39.01 \n",
      "SPEED               6175  \n",
      "\n",
      "\u001b[1m\n",
      "=========================== Textcat F (per label) ===========================\u001b[0m\n",
      "\n",
      "                     P       R       F\n",
      "POLITICS         67.39   82.80   74.30\n",
      "WELLNESS         52.64   64.21   57.85\n",
      "ENTERTAINMENT    59.58   71.57   65.03\n",
      "TRAVEL           70.89   68.95   69.90\n",
      "HEALTHY LIVING   24.84   32.24   28.06\n",
      "BUSINESS         34.47   45.44   39.20\n",
      "WEIRD NEWS       32.76   23.75   27.54\n",
      "SPORTS           58.05   66.26   61.89\n",
      "PARENTING        50.00   55.81   52.74\n",
      "STYLE & BEAUTY   67.69   76.57   71.86\n",
      "GREEN            38.41   21.46   27.53\n",
      "FOOD & DRINK     56.45   68.38   61.85\n",
      "QUEER VOICES     74.19   65.09   69.35\n",
      "THE WORLDPOST    34.86   50.76   41.34\n",
      "HOME & LIVING    64.64   68.66   66.59\n",
      "WEDDINGS         75.00   72.85   73.91\n",
      "PARENTS          32.01   26.18   28.81\n",
      "ARTS & CULTURE   13.89    3.60    5.71\n",
      "CRIME            49.52   43.02   46.04\n",
      "CULTURE & ARTS   46.30   29.07   35.71\n",
      "ENVIRONMENT      40.00   15.04   21.86\n",
      "COMEDY           53.41   40.66   46.17\n",
      "RELIGION         60.32   29.46   39.58\n",
      "MONEY            47.87   27.27   34.75\n",
      "BLACK VOICES     41.23   34.18   37.37\n",
      "COLLEGE          34.25   22.73   27.32\n",
      "DIVORCE          78.55   64.86   71.05\n",
      "U.S. NEWS        50.00    1.75    3.39\n",
      "WORLD NEWS       40.32   21.61   28.14\n",
      "IMPACT           27.62   18.71   22.31\n",
      "STYLE            34.23   23.83   28.10\n",
      "EDUCATION        33.33   10.19   15.60\n",
      "WORLDPOST        31.31   26.80   28.88\n",
      "SCIENCE          60.00   32.00   41.74\n",
      "TASTE            33.65   19.23   24.48\n",
      "TECH             55.36   30.10   38.99\n",
      "WOMEN            26.44   22.94   24.57\n",
      "GOOD NEWS        24.62   10.96   15.17\n",
      "FIFTY            20.83    3.79    6.41\n",
      "ARTS             38.89   11.02   17.18\n",
      "MEDIA            53.97   35.79   43.04\n",
      "LATINO VOICES    37.14   11.21   17.22\n",
      "\n",
      "\u001b[1m\n",
      "======================== Textcat ROC AUC (per label) ========================\u001b[0m\n",
      "\n",
      "                 ROC AUC\n",
      "POLITICS            0.94\n",
      "WELLNESS            0.92\n",
      "ENTERTAINMENT       0.93\n",
      "TRAVEL              0.95\n",
      "HEALTHY LIVING      0.84\n",
      "BUSINESS            0.87\n",
      "WEIRD NEWS          0.88\n",
      "SPORTS              0.93\n",
      "PARENTING           0.91\n",
      "STYLE & BEAUTY      0.94\n",
      "GREEN               0.85\n",
      "FOOD & DRINK        0.95\n",
      "QUEER VOICES        0.91\n",
      "THE WORLDPOST       0.93\n",
      "HOME & LIVING       0.91\n",
      "WEDDINGS            0.94\n",
      "PARENTS             0.89\n",
      "ARTS & CULTURE      0.83\n",
      "CRIME               0.89\n",
      "CULTURE & ARTS      0.79\n",
      "ENVIRONMENT         0.81\n",
      "COMEDY              0.84\n",
      "RELIGION            0.82\n",
      "MONEY               0.89\n",
      "BLACK VOICES        0.88\n",
      "COLLEGE             0.81\n",
      "DIVORCE             0.90\n",
      "U.S. NEWS           0.88\n",
      "WORLD NEWS          0.90\n",
      "IMPACT              0.81\n",
      "STYLE               0.89\n",
      "EDUCATION           0.84\n",
      "WORLDPOST           0.89\n",
      "SCIENCE             0.87\n",
      "TASTE               0.89\n",
      "TECH                0.87\n",
      "WOMEN               0.84\n",
      "GOOD NEWS           0.85\n",
      "FIFTY               0.80\n",
      "ARTS                0.76\n",
      "MEDIA               0.89\n",
      "LATINO VOICES       0.78\n",
      "\n",
      "\u001b[38;5;2m✔ Saved results to textcat_model/metrics.json\u001b[0m\n"
     ]
    }
   ],
   "source": [
    "# evaluate the model\n",
    "!python -m spacy evaluate ./textcat_model/model-best/ --output ./textcat_model/metrics.json ../data/test.spacy --gpu-id 0"
   ]
  },
  {
   "cell_type": "code",
   "execution_count": 14,
   "metadata": {},
   "outputs": [
    {
     "name": "stdout",
     "output_type": "stream",
     "text": [
      "{'POLITICS': 0.01840197481215, 'WELLNESS': 0.00032212372752837837, 'ENTERTAINMENT': 0.005269561428576708, 'TRAVEL': 0.00636184960603714, 'HEALTHY LIVING': 0.0034280235413461924, 'BUSINESS': 0.03493398800492287, 'WEIRD NEWS': 1.2614979823410977e-05, 'SPORTS': 0.00023266530479304492, 'PARENTING': 0.043444517999887466, 'STYLE & BEAUTY': 0.0008673993870615959, 'GREEN': 0.0037550267297774553, 'FOOD & DRINK': 0.0006035942933522165, 'QUEER VOICES': 0.06572605669498444, 'THE WORLDPOST': 0.0008242229232564569, 'HOME & LIVING': 0.0003070157254114747, 'WEDDINGS': 0.0016251156339421868, 'PARENTS': 0.00020135444356128573, 'ARTS & CULTURE': 0.004422228783369064, 'CRIME': 9.721733658807352e-05, 'CULTURE & ARTS': 0.05658094584941864, 'ENVIRONMENT': 0.01311678159981966, 'COMEDY': 0.0040053692646324635, 'RELIGION': 0.002186872297897935, 'MONEY': 0.01357474084943533, 'BLACK VOICES': 0.0017910278402268887, 'COLLEGE': 0.004576589912176132, 'DIVORCE': 0.008593172766268253, 'U.S. NEWS': 0.001206616754643619, 'WORLD NEWS': 0.0009734301711432636, 'IMPACT': 0.2941300570964813, 'STYLE': 0.0014328851830214262, 'EDUCATION': 0.004338711965829134, 'WORLDPOST': 0.32945042848587036, 'SCIENCE': 0.0001877397735370323, 'TASTE': 0.001093838713131845, 'TECH': 0.004198769107460976, 'WOMEN': 0.011241242289543152, 'GOOD NEWS': 0.0001954285689862445, 'FIFTY': 0.00022540987993124872, 'ARTS': 0.023990003392100334, 'MEDIA': 0.005911859218031168, 'LATINO VOICES': 0.012872894294559956}\n"
     ]
    }
   ],
   "source": [
    "# check results\n",
    "import spacy\n",
    "nlp = spacy.load(\"textcat_model/model-best\")\n",
    "doc=nlp(\"History is made: 10 new UK attractions for day trips and short breaks\")\n",
    "print(doc.cats)"
   ]
  },
  {
   "cell_type": "code",
   "execution_count": 15,
   "metadata": {},
   "outputs": [
    {
     "data": {
      "text/plain": [
       "'WORLDPOST'"
      ]
     },
     "execution_count": 15,
     "metadata": {},
     "output_type": "execute_result"
    }
   ],
   "source": [
    "max(doc.cats, key=doc.cats.get)"
   ]
  },
  {
   "cell_type": "code",
   "execution_count": 16,
   "metadata": {},
   "outputs": [
    {
     "data": {
      "text/plain": [
       "0.043444517999887466"
      ]
     },
     "execution_count": 16,
     "metadata": {},
     "output_type": "execute_result"
    }
   ],
   "source": [
    "doc.cats[\"PARENTING\"]"
   ]
  },
  {
   "cell_type": "markdown",
   "metadata": {},
   "source": [
    "#### 3. Package the model into a Zip file"
   ]
  },
  {
   "cell_type": "code",
   "execution_count": null,
   "metadata": {},
   "outputs": [],
   "source": [
    "# zip up the model-best\n",
    "\n",
    "import shutil\n",
    "\n",
    "model_best_path = \"textcat_model/model-best\"\n",
    "zipfile_name = \"textcat_model/model-best\"\n",
    "\n",
    "shutil.make_archive(zipfile_name, \"zip\", model_best_path)"
   ]
  },
  {
   "cell_type": "markdown",
   "metadata": {},
   "source": [
    "__Note:__ To preserve models, please rename the folder. For example, \"textcat_model\" > \"textcat_model_2023-07-17_12-24\""
   ]
  },
  {
   "cell_type": "markdown",
   "metadata": {},
   "source": []
  }
 ],
 "metadata": {
  "kernelspec": {
   "display_name": "spacy",
   "language": "python",
   "name": "python3"
  },
  "language_info": {
   "codemirror_mode": {
    "name": "ipython",
    "version": 3
   },
   "file_extension": ".py",
   "mimetype": "text/x-python",
   "name": "python",
   "nbconvert_exporter": "python",
   "pygments_lexer": "ipython3",
   "version": "3.11.3"
  },
  "orig_nbformat": 4
 },
 "nbformat": 4,
 "nbformat_minor": 2
}
