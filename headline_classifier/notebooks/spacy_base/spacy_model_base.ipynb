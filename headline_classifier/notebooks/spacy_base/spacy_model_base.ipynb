{
 "cells": [
  {
   "cell_type": "markdown",
   "metadata": {},
   "source": [
    "### Headline Category Classifier Model Training\n",
    "\n",
    "This notebook performs the model training for a text classifier using Spacy"
   ]
  },
  {
   "cell_type": "markdown",
   "metadata": {},
   "source": [
    "__Model Type: Spacy Bag of Words__\n",
    "\n",
    "This model was trained using a python v3.11.3 environment and requires:\n",
    "- spacy\n",
    "\n",
    "Please consult the requirements.txt for more info."
   ]
  },
  {
   "cell_type": "markdown",
   "metadata": {},
   "source": [
    "#### 0. Check GPU Status"
   ]
  },
  {
   "cell_type": "code",
   "execution_count": 3,
   "metadata": {},
   "outputs": [
    {
     "name": "stdout",
     "output_type": "stream",
     "text": [
      "nvcc: NVIDIA (R) Cuda compiler driver\n",
      "Copyright (c) 2005-2022 NVIDIA Corporation\n",
      "Built on Wed_Jun__8_16:49:14_PDT_2022\n",
      "Cuda compilation tools, release 11.7, V11.7.99\n",
      "Build cuda_11.7.r11.7/compiler.31442593_0\n"
     ]
    }
   ],
   "source": [
    "# check cuda version\n",
    "!nvcc --version"
   ]
  },
  {
   "cell_type": "code",
   "execution_count": 4,
   "metadata": {},
   "outputs": [
    {
     "name": "stdout",
     "output_type": "stream",
     "text": [
      "Sun Jun 25 01:31:33 2023       \n",
      "+-----------------------------------------------------------------------------+\n",
      "| NVIDIA-SMI 525.120      Driver Version: 529.01       CUDA Version: 12.0     |\n",
      "|-------------------------------+----------------------+----------------------+\n",
      "| GPU  Name        Persistence-M| Bus-Id        Disp.A | Volatile Uncorr. ECC |\n",
      "| Fan  Temp  Perf  Pwr:Usage/Cap|         Memory-Usage | GPU-Util  Compute M. |\n",
      "|                               |                      |               MIG M. |\n",
      "|===============================+======================+======================|\n",
      "|   0  NVIDIA GeForce ...  On   | 00000000:01:00.0 Off |                  N/A |\n",
      "| N/A   39C    P8     2W /  60W |      0MiB /  8188MiB |      0%      Default |\n",
      "|                               |                      |                  N/A |\n",
      "+-------------------------------+----------------------+----------------------+\n",
      "                                                                               \n",
      "+-----------------------------------------------------------------------------+\n",
      "| Processes:                                                                  |\n",
      "|  GPU   GI   CI        PID   Type   Process name                  GPU Memory |\n",
      "|        ID   ID                                                   Usage      |\n",
      "|=============================================================================|\n",
      "|    0   N/A  N/A        25      G   /Xwayland                       N/A      |\n",
      "+-----------------------------------------------------------------------------+\n"
     ]
    }
   ],
   "source": [
    "# check gpu status\n",
    "!nvidia-smi"
   ]
  },
  {
   "cell_type": "markdown",
   "metadata": {},
   "source": [
    "#### 1. Generate config file and modify as necessary to use the correct model"
   ]
  },
  {
   "cell_type": "code",
   "execution_count": 6,
   "metadata": {},
   "outputs": [
    {
     "name": "stdout",
     "output_type": "stream",
     "text": [
      "\u001b[38;5;3m⚠ To generate a more effective transformer-based config (GPU-only),\n",
      "install the spacy-transformers package and re-run this command. The config\n",
      "generated now does not use transformers.\u001b[0m\n",
      "\u001b[38;5;4mℹ Generated config template specific for your use case\u001b[0m\n",
      "- Language: en\n",
      "- Pipeline: textcat\n",
      "- Optimize for: efficiency\n",
      "- Hardware: GPU\n",
      "- Transformer: None\n",
      "\u001b[38;5;2m✔ Auto-filled config with all values\u001b[0m\n",
      "\u001b[38;5;2m✔ Saved config\u001b[0m\n",
      "config.cfg\n",
      "You can now add your data and train your pipeline:\n",
      "python -m spacy train config.cfg --paths.train ./train.spacy --paths.dev ./dev.spacy\n"
     ]
    }
   ],
   "source": [
    "# setup the config file\n",
    "!python -m spacy init config --pipeline textcat config.cfg --gpu"
   ]
  },
  {
   "cell_type": "markdown",
   "metadata": {},
   "source": [
    "#### 2. Train the model and evaluate model performance"
   ]
  },
  {
   "cell_type": "code",
   "execution_count": 9,
   "metadata": {},
   "outputs": [
    {
     "name": "stdout",
     "output_type": "stream",
     "text": [
      "\u001b[38;5;4mℹ Saving to output directory: textcat_model\u001b[0m\n",
      "\u001b[38;5;4mℹ Using GPU: 0\u001b[0m\n",
      "\u001b[1m\n",
      "=========================== Initializing pipeline ===========================\u001b[0m\n",
      "[2023-06-25 01:34:36,478] [INFO] Set up nlp object from config\n",
      "[2023-06-25 01:34:36,485] [INFO] Pipeline: ['textcat']\n",
      "[2023-06-25 01:34:36,486] [INFO] Created vocabulary\n",
      "[2023-06-25 01:34:36,486] [INFO] Finished initializing nlp object\n",
      "[2023-06-25 01:34:51,542] [INFO] Initialized pipeline components: ['textcat']\n",
      "\u001b[38;5;2m✔ Initialized pipeline\u001b[0m\n",
      "\u001b[1m\n",
      "============================= Training pipeline =============================\u001b[0m\n",
      "\u001b[38;5;4mℹ Pipeline: ['textcat']\u001b[0m\n",
      "\u001b[38;5;4mℹ Initial learn rate: 0.001\u001b[0m\n",
      "E    #       LOSS TEXTCAT  CATS_SCORE  SCORE \n",
      "---  ------  ------------  ----------  ------\n",
      "  0       0          0.02        1.95    0.02\n",
      "  0     200          4.57        3.32    0.03\n",
      "  0     400          4.31        4.32    0.04\n",
      "  0     600          4.12        5.24    0.05\n",
      "  0     800          4.05        7.45    0.07\n",
      "  0    1000          3.92       10.17    0.10\n",
      "  0    1200          3.79       12.67    0.13\n",
      "  0    1400          3.72       14.93    0.15\n",
      "  0    1600          3.64       16.81    0.17\n",
      "  0    1800          3.52       18.12    0.18\n",
      "  0    2000          3.48       19.99    0.20\n",
      "  0    2200          3.42       21.16    0.21\n",
      "  0    2400          3.34       22.34    0.22\n",
      "  1    2600          3.22       23.23    0.23\n",
      "  1    2800          3.05       24.39    0.24\n",
      "  1    3000          3.02       25.55    0.26\n",
      "  1    3200          2.99       26.38    0.26\n",
      "  1    3400          2.97       27.12    0.27\n",
      "  1    3600          2.95       27.82    0.28\n",
      "  2    3800          2.77       28.47    0.28\n",
      "  2    4000          2.77       29.05    0.29\n",
      "  2    4200          2.75       29.51    0.30\n",
      "  2    4400          2.75       29.97    0.30\n",
      "  2    4600          2.73       30.44    0.30\n",
      "  3    4800          2.69       30.67    0.31\n",
      "  3    5000          2.56       30.92    0.31\n",
      "  3    5200          2.58       31.18    0.31\n",
      "  3    5400          2.57       31.38    0.31\n",
      "  3    5600          2.58       31.63    0.32\n",
      "  3    5800          2.56       31.82    0.32\n",
      "  4    6000          2.46       32.02    0.32\n",
      "  4    6200          2.42       32.04    0.32\n",
      "  4    6400          2.41       32.18    0.32\n",
      "  4    6600          2.45       32.52    0.33\n",
      "  4    6800          2.41       32.54    0.33\n",
      "  5    7000          2.43       32.72    0.33\n",
      "  5    7200          2.29       32.79    0.33\n",
      "  5    7400          2.29       32.87    0.33\n",
      "  5    7600          2.30       33.00    0.33\n",
      "  5    7800          2.33       32.83    0.33\n",
      "  5    8000          2.35       32.85    0.33\n",
      "  6    8200          2.27       32.95    0.33\n",
      "  6    8400          2.23       32.91    0.33\n",
      "  6    8600          2.22       33.22    0.33\n",
      "  6    8800          2.22       33.14    0.33\n",
      "  6    9000          2.19       33.35    0.33\n",
      "  6    9200          2.24       33.27    0.33\n",
      "  7    9400          2.12       33.35    0.33\n",
      "  7    9600          2.09       33.21    0.33\n",
      "  7    9800          2.13       33.24    0.33\n",
      "  7   10000          2.16       33.21    0.33\n",
      "  7   10200          2.16       33.29    0.33\n",
      "  8   10400          2.12       33.51    0.34\n",
      "  8   10600          2.03       33.52    0.34\n",
      "  8   10800          2.04       33.63    0.34\n",
      "  8   11000          2.07       33.71    0.34\n",
      "  8   11200          2.11       33.72    0.34\n",
      "  8   11400          2.08       33.70    0.34\n",
      "  9   11600          1.99       33.77    0.34\n",
      "  9   11800          1.97       33.92    0.34\n",
      "  9   12000          1.98       33.90    0.34\n",
      "  9   12200          2.01       33.77    0.34\n",
      "  9   12400          2.00       33.75    0.34\n",
      " 10   12600          2.01       33.80    0.34\n",
      " 10   12800          1.90       33.87    0.34\n",
      " 10   13000          1.93       33.85    0.34\n",
      " 10   13200          1.92       33.82    0.34\n",
      " 10   13400          1.97       33.99    0.34\n",
      " 10   13600          1.97       34.02    0.34\n",
      " 11   13800          1.89       33.91    0.34\n",
      " 11   14000          1.85       33.90    0.34\n",
      " 11   14200          1.87       33.96    0.34\n",
      " 11   14400          1.88       34.13    0.34\n",
      " 11   14600          1.89       34.29    0.34\n",
      " 11   14800          1.93       34.26    0.34\n",
      " 12   15000          1.81       34.32    0.34\n",
      " 12   15200          1.80       34.09    0.34\n",
      " 12   15400          1.83       34.07    0.34\n",
      " 12   15600          1.84       33.99    0.34\n",
      " 12   15800          1.87       34.16    0.34\n",
      " 13   16000          1.81       34.10    0.34\n",
      " 13   16200          1.75       34.04    0.34\n",
      " 13   16400          1.76       34.04    0.34\n",
      " 13   16600          1.80       33.96    0.34\n",
      "\u001b[38;5;2m✔ Saved pipeline to output directory\u001b[0m\n",
      "textcat_model/model-last\n"
     ]
    }
   ],
   "source": [
    "# train them model\n",
    "!python -m spacy train config.cfg --paths.train ../data/train.spacy  --paths.dev ../data/dev.spacy --output textcat_model --gpu-id 0"
   ]
  },
  {
   "cell_type": "code",
   "execution_count": 10,
   "metadata": {},
   "outputs": [
    {
     "name": "stdout",
     "output_type": "stream",
     "text": [
      "\u001b[38;5;4mℹ Using GPU: 0\u001b[0m\n",
      "\u001b[1m\n",
      "================================== Results ==================================\u001b[0m\n",
      "\n",
      "TOK                 100.00\n",
      "TEXTCAT (macro F)   34.56 \n",
      "SPEED               6900  \n",
      "\n",
      "\u001b[1m\n",
      "=========================== Textcat F (per label) ===========================\u001b[0m\n",
      "\n",
      "                      P       R       F\n",
      "POLITICS          64.86   81.76   72.34\n",
      "WELLNESS          47.18   71.81   56.95\n",
      "ENTERTAINMENT     56.85   69.29   62.46\n",
      "TRAVEL            58.65   71.37   64.39\n",
      "HEALTHY LIVING    25.77   22.04   23.76\n",
      "BUSINESS          37.39   36.65   37.02\n",
      "WEIRD NEWS        28.57   24.17   26.19\n",
      "SPORTS            56.75   57.78   57.26\n",
      "PARENTING         44.39   53.91   48.69\n",
      "STYLE & BEAUTY    72.33   73.54   72.93\n",
      "GREEN             35.46   20.24   25.77\n",
      "FOOD & DRINK      57.30   64.12   60.52\n",
      "QUEER VOICES      61.32   58.33   59.79\n",
      "THE WORLDPOST     40.06   41.03   40.54\n",
      "HOME & LIVING     67.48   61.94   64.59\n",
      "WEDDINGS          74.50   67.89   71.04\n",
      "PARENTS           30.34   26.93   28.53\n",
      "ARTS & CULTURE     0.00    0.00    0.00\n",
      "CRIME             48.49   44.97   46.67\n",
      "CULTURE & ARTS    80.00    9.30   16.67\n",
      "ENVIRONMENT       55.88   14.29   22.75\n",
      "COMEDY            44.32   34.02   38.50\n",
      "RELIGION          44.44   26.36   33.09\n",
      "MONEY             47.69   18.79   26.96\n",
      "BLACK VOICES      40.05   36.26   38.06\n",
      "COLLEGE          100.00    0.91    1.80\n",
      "DIVORCE           72.20   60.86   66.05\n",
      "U.S. NEWS         16.67    1.75    3.17\n",
      "WORLD NEWS        37.01   29.97   33.12\n",
      "IMPACT            25.70   20.65   22.90\n",
      "STYLE             35.71   28.04   31.41\n",
      "EDUCATION          0.00    0.00    0.00\n",
      "WORLDPOST         30.91   20.40   24.58\n",
      "SCIENCE           59.20   32.89   42.29\n",
      "TASTE             23.42   14.29   17.75\n",
      "TECH              53.91   33.50   41.32\n",
      "WOMEN             29.63   23.53   26.23\n",
      "GOOD NEWS          0.00    0.00    0.00\n",
      "FIFTY              0.00    0.00    0.00\n",
      "ARTS              25.00    4.72    7.95\n",
      "MEDIA             49.15   30.53   37.66\n",
      "LATINO VOICES      0.00    0.00    0.00\n",
      "\n",
      "\u001b[1m\n",
      "======================== Textcat ROC AUC (per label) ========================\u001b[0m\n",
      "\n",
      "                 ROC AUC\n",
      "POLITICS            0.94\n",
      "WELLNESS            0.93\n",
      "ENTERTAINMENT       0.93\n",
      "TRAVEL              0.96\n",
      "HEALTHY LIVING      0.87\n",
      "BUSINESS            0.89\n",
      "WEIRD NEWS          0.88\n",
      "SPORTS              0.94\n",
      "PARENTING           0.93\n",
      "STYLE & BEAUTY      0.97\n",
      "GREEN               0.87\n",
      "FOOD & DRINK        0.97\n",
      "QUEER VOICES        0.94\n",
      "THE WORLDPOST       0.93\n",
      "HOME & LIVING       0.95\n",
      "WEDDINGS            0.96\n",
      "PARENTS             0.90\n",
      "ARTS & CULTURE      0.52\n",
      "CRIME               0.93\n",
      "CULTURE & ARTS      0.62\n",
      "ENVIRONMENT         0.80\n",
      "COMEDY              0.88\n",
      "RELIGION            0.88\n",
      "MONEY               0.86\n",
      "BLACK VOICES        0.89\n",
      "COLLEGE             0.71\n",
      "DIVORCE             0.95\n",
      "U.S. NEWS           0.77\n",
      "WORLD NEWS          0.92\n",
      "IMPACT              0.86\n",
      "STYLE               0.89\n",
      "EDUCATION           0.73\n",
      "WORLDPOST           0.90\n",
      "SCIENCE             0.90\n",
      "TASTE               0.88\n",
      "TECH                0.89\n",
      "WOMEN               0.85\n",
      "GOOD NEWS           0.55\n",
      "FIFTY               0.64\n",
      "ARTS                0.80\n",
      "MEDIA               0.88\n",
      "LATINO VOICES       0.53\n",
      "\n",
      "\u001b[38;5;2m✔ Saved results to metrics.json\u001b[0m\n"
     ]
    }
   ],
   "source": [
    "# evaluate the model\n",
    "!python -m spacy evaluate ./textcat_model/model-best/ --output ./metrics.json ../data/test.spacy --gpu-id 0"
   ]
  },
  {
   "cell_type": "code",
   "execution_count": 11,
   "metadata": {},
   "outputs": [
    {
     "name": "stdout",
     "output_type": "stream",
     "text": [
      "{'POLITICS': 0.008987436071038246, 'WELLNESS': 0.00651813019067049, 'ENTERTAINMENT': 0.018183095380663872, 'TRAVEL': 0.014709735289216042, 'HEALTHY LIVING': 0.000356932170689106, 'BUSINESS': 0.0005905973957851529, 'WEIRD NEWS': 0.0001808985834941268, 'SPORTS': 0.047901950776576996, 'PARENTING': 0.24622957408428192, 'STYLE & BEAUTY': 0.09931683540344238, 'GREEN': 0.015597987920045853, 'FOOD & DRINK': 0.003302691038697958, 'QUEER VOICES': 0.1706678569316864, 'THE WORLDPOST': 3.156016464345157e-05, 'HOME & LIVING': 0.016233058646321297, 'WEDDINGS': 0.006742260884493589, 'PARENTS': 4.187962622381747e-05, 'ARTS & CULTURE': 1.1152944807690801e-06, 'CRIME': 1.0797774848469999e-05, 'CULTURE & ARTS': 2.8245676730875857e-07, 'ENVIRONMENT': 9.458528074901551e-05, 'COMEDY': 0.00025647395523265004, 'RELIGION': 0.02188471332192421, 'MONEY': 0.0008230795501731336, 'BLACK VOICES': 0.00021754769841209054, 'COLLEGE': 0.0002326863177586347, 'DIVORCE': 0.0014017171924933791, 'U.S. NEWS': 9.816215606406331e-05, 'WORLD NEWS': 7.656947855139151e-05, 'IMPACT': 0.0010538330534473062, 'STYLE': 8.838002941047307e-06, 'EDUCATION': 9.722360118757933e-06, 'WORLDPOST': 0.22183386981487274, 'SCIENCE': 0.0009946434292942286, 'TASTE': 0.07959597557783127, 'TECH': 0.00632448447868228, 'WOMEN': 0.0029774366412311792, 'GOOD NEWS': 4.143545083934441e-06, 'FIFTY': 2.04949060389481e-06, 'ARTS': 0.006112024188041687, 'MEDIA': 0.00039272839785553515, 'LATINO VOICES': 5.802543778798963e-09}\n"
     ]
    }
   ],
   "source": [
    "# check results\n",
    "import spacy\n",
    "nlp = spacy.load(\"textcat_model/model-best\")\n",
    "doc=nlp(\"History is made: 10 new UK attractions for day trips and short breaks\")\n",
    "print(doc.cats)"
   ]
  },
  {
   "cell_type": "code",
   "execution_count": 12,
   "metadata": {},
   "outputs": [
    {
     "data": {
      "text/plain": [
       "'PARENTING'"
      ]
     },
     "execution_count": 12,
     "metadata": {},
     "output_type": "execute_result"
    }
   ],
   "source": [
    "max(doc.cats, key=doc.cats.get)"
   ]
  },
  {
   "cell_type": "code",
   "execution_count": 14,
   "metadata": {},
   "outputs": [
    {
     "data": {
      "text/plain": [
       "0.24622957408428192"
      ]
     },
     "execution_count": 14,
     "metadata": {},
     "output_type": "execute_result"
    }
   ],
   "source": [
    "doc.cats[\"PARENTING\"]"
   ]
  },
  {
   "cell_type": "markdown",
   "metadata": {},
   "source": [
    "#### 3. Package the model into a Zip file"
   ]
  },
  {
   "cell_type": "code",
   "execution_count": null,
   "metadata": {},
   "outputs": [],
   "source": [
    "# zip up the model-best\n",
    "\n",
    "import shutil\n",
    "\n",
    "model_best_path = \"textcat_model/model-best\"\n",
    "zipfile_name = \"textcat_model/model-best\"\n",
    "\n",
    "shutil.make_archive(zipfile_name, \"zip\", model_best_path)"
   ]
  },
  {
   "cell_type": "markdown",
   "metadata": {},
   "source": [
    "__Note:__ To preserve models, please rename the folder. For example, \"textcat_model\" > \"textcat_model_2023-07-17_12-24\""
   ]
  },
  {
   "cell_type": "markdown",
   "metadata": {},
   "source": []
  }
 ],
 "metadata": {
  "kernelspec": {
   "display_name": "spacy",
   "language": "python",
   "name": "python3"
  },
  "language_info": {
   "codemirror_mode": {
    "name": "ipython",
    "version": 3
   },
   "file_extension": ".py",
   "mimetype": "text/x-python",
   "name": "python",
   "nbconvert_exporter": "python",
   "pygments_lexer": "ipython3",
   "version": "3.11.3"
  },
  "orig_nbformat": 4
 },
 "nbformat": 4,
 "nbformat_minor": 2
}
